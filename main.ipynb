{
 "cells": [
  {
   "cell_type": "markdown",
   "metadata": {},
   "source": [
    "# METHOD 1 - Integrated frontend and backend (no API)"
   ]
  },
  {
   "cell_type": "code",
   "execution_count": null,
   "metadata": {
    "vscode": {
     "languageId": "plaintext"
    }
   },
   "outputs": [],
   "source": [
    "!pip install -r requirements.txt\n",
    "!pip install -r app/requirements.txt\n",
    "!python app/app_no_api.py"
   ]
  },
  {
   "cell_type": "markdown",
   "metadata": {},
   "source": [
    "# METHOD 2 - Backend only"
   ]
  },
  {
   "cell_type": "code",
   "execution_count": null,
   "metadata": {
    "vscode": {
     "languageId": "plaintext"
    }
   },
   "outputs": [],
   "source": [
    "# NOTE: obtain authtoken from https://dashboard.ngrok.com/get-started/your-authtoken\n",
    "\n",
    "!pip install -r requirements.txt\n",
    "!pip install nest-asyncio pyngrok\n",
    "!ngrok config add-authtoken [YOUR-NGROK-TOKEN]\n",
    "!python server_ngrok.py"
   ]
  }
 ],
 "metadata": {
  "language_info": {
   "name": "python"
  }
 },
 "nbformat": 4,
 "nbformat_minor": 2
}
